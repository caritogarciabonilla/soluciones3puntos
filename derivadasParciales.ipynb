{
 "cells": [
  {
   "cell_type": "code",
   "execution_count": 1,
   "metadata": {},
   "outputs": [],
   "source": [
    "# El metodo de diferencias finitas para la solucion de ecuaciones diferenciales \n",
    "# parciales consisten en asumir cada una de las derivadas como una funcion que \n",
    "# se puede evaluar punto por punto haciendo un cambio pequenho cada vez.\n",
    "# Por ejemplo, asumamos que queremos hallar el cambio de un flujo con el paso\n",
    "# del tiempo:  \n",
    "partial rho/partial t =- partial flux/partial x\n",
    "# la derivacion es entonces de la siguiente forma\n",
    "# df/dt=f'(x)=slope(x)*tau + f(x-h)\n",
    "# donde slope(x) es la funcion de la derivada instantanea en el punto x\n",
    "de manera que conocido el tiempo\n",
    "partial rho/partial t =- partial flux/partial x"
   ]
  },
  {
   "cell_type": "raw",
   "metadata": {},
   "source": [
    "partial rho/partial t =-c partial rho/partial x\n"
   ]
  }
 ],
 "metadata": {
  "kernelspec": {
   "display_name": "Python 3",
   "language": "python",
   "name": "python3"
  },
  "language_info": {
   "codemirror_mode": {
    "name": "ipython",
    "version": 3
   },
   "file_extension": ".py",
   "mimetype": "text/x-python",
   "name": "python",
   "nbconvert_exporter": "python",
   "pygments_lexer": "ipython3",
   "version": "3.6.6"
  }
 },
 "nbformat": 4,
 "nbformat_minor": 2
}
