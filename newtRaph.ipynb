{
 "cells": [
  {
   "cell_type": "code",
   "execution_count": 1,
   "metadata": {},
   "outputs": [
    {
     "name": "stdout",
     "output_type": "stream",
     "text": [
      "Populating the interactive namespace from numpy and matplotlib\n"
     ]
    }
   ],
   "source": [
    "%pylab inline"
   ]
  },
  {
   "cell_type": "code",
   "execution_count": 2,
   "metadata": {},
   "outputs": [],
   "source": [
    "#Newton Rampson\n",
    "# es un metodo numerico que me permite encontrar los ceros de una funcion a partir de \n",
    "# de la derivada de la derivada. \n",
    "# surge de la expansion de Taylor de la funcion, y en resumen si el valor\n",
    "# donde estoy evaluando la funcion es un cero. Al sumar f(x) no se afecta el valor"
   ]
  },
  {
   "cell_type": "code",
   "execution_count": 2,
   "metadata": {},
   "outputs": [],
   "source": [
    "def f(x):\n",
    "    return (x+2.0)*(x-2.0)*(x-4.0)\n",
    "\n",
    "# como es una derivada numerica que todavia no hemos visto\n",
    "def fprima(x):\n",
    "    return 2.0*x**2-4.0-(8.0*x)"
   ]
  },
  {
   "cell_type": "code",
   "execution_count": 4,
   "metadata": {},
   "outputs": [
    {
     "name": "stdout",
     "output_type": "stream",
     "text": [
      "xuno, xdos 8.0 8.0\n",
      "mival,lot 10000 2e-05\n",
      "xuno, xdos 4.0 4.0\n",
      "4.0\n"
     ]
    }
   ],
   "source": [
    "def newton(x):\n",
    "    #que tan cerca quiero aproximarme al resultado\n",
    "    lot=0.00002\n",
    "    mival=10000\n",
    "    xuno=x\n",
    "    xdos=xuno\n",
    "    print (\"xuno, xdos\",xuno,xdos)\n",
    "    print (\"mival,lot\",mival,lot)\n",
    "    while mival > lot:\n",
    "        alpha=f(xuno)/fprima(xuno)\n",
    "        # segun el metodo este es el avance\n",
    "        xdos=xuno - alpha\n",
    "        if abs(f(xdos)) < abs(f(xuno)):\n",
    "            xuno=xdos\n",
    "        print (\"xuno, xdos\",xuno,xdos)\n",
    "        mival= abs(f(xuno))\n",
    "    return xuno\n",
    "print(newton(8.0))"
   ]
  },
  {
   "cell_type": "code",
   "execution_count": null,
   "metadata": {},
   "outputs": [],
   "source": [
    "# de acuerdo al ejemplo los ceros estan en -2, 2 y 4"
   ]
  }
 ],
 "metadata": {
  "kernelspec": {
   "display_name": "Python 3",
   "language": "python",
   "name": "python3"
  },
  "language_info": {
   "codemirror_mode": {
    "name": "ipython",
    "version": 3
   },
   "file_extension": ".py",
   "mimetype": "text/x-python",
   "name": "python",
   "nbconvert_exporter": "python",
   "pygments_lexer": "ipython3",
   "version": "3.6.6"
  }
 },
 "nbformat": 4,
 "nbformat_minor": 2
}
