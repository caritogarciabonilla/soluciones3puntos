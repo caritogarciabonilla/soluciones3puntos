{
 "cells": [
  {
   "cell_type": "code",
   "execution_count": 1,
   "metadata": {},
   "outputs": [
    {
     "name": "stdout",
     "output_type": "stream",
     "text": [
      "Populating the interactive namespace from numpy and matplotlib\n"
     ]
    }
   ],
   "source": [
    "% pylab inline"
   ]
  },
  {
   "cell_type": "code",
   "execution_count": 4,
   "metadata": {},
   "outputs": [],
   "source": [
    "x=linspace(-5,5,100)\n",
    "rui=random.rand(100)\n",
    "y=3*x+8+rui"
   ]
  },
  {
   "cell_type": "code",
   "execution_count": 3,
   "metadata": {},
   "outputs": [],
   "source": [
    "def f(x,a,b):\n",
    "    return a*x+b"
   ]
  },
  {
   "cell_type": "code",
   "execution_count": 5,
   "metadata": {},
   "outputs": [
    {
     "data": {
      "text/plain": [
       "[<matplotlib.lines.Line2D at 0x7fa641c8fe10>]"
      ]
     },
     "execution_count": 5,
     "metadata": {},
     "output_type": "execute_result"
    },
    {
     "data": {
      "image/png": "[encoded data removed]",
      "text/plain": [
       "<Figure size 432x288 with 1 Axes>"
      ]
     },
     "metadata": {
      "needs_background": "light"
     },
     "output_type": "display_data"
    }
   ],
   "source": [
    "plot(x,y)"
   ]
  },
  {
   "cell_type": "code",
   "execution_count": 12,
   "metadata": {},
   "outputs": [],
   "source": [
    "# metodo de Monte Carlo para encontrar el Fit\n",
    "# \n",
    "# Este metodo consiste en determinar con numeros aletorios si puedo encontrar\n",
    "#   parametros que se ajusten mejor a todos los puntos. Inicio con valores \n",
    "#   cercanos a los parametros que deseo encontrar, luego los modifico generando\n",
    "#   un numero aletorio que implica una nueva curva, y con la diferencia de los\n",
    "#   cuadrados de los nueva curva y la curva anterior con respecto a los puntos\n",
    "#   iniciales, determino si elijo los parametros de la nueva curva o si los\n",
    "# dejo como estaban"
   ]
  },
  {
   "cell_type": "code",
   "execution_count": 47,
   "metadata": {},
   "outputs": [
    {
     "name": "stdout",
     "output_type": "stream",
     "text": [
      "El ajuste estaria dado por 2.923542257598968 8.191146863235698\n"
     ]
    }
   ],
   "source": [
    "aini=2.8 # tomo valores iniciales cercanos a 3 y 8\n",
    "bini=8.2\n",
    "\n",
    "for i in range(len(y)-1):\n",
    "            a=aini+(random.rand()*0.25-0.25)\n",
    "            b=bini+(random.rand()*0.25-0.25)\n",
    "            yuno=f(x[i],aini,bini)\n",
    "            ynew=f(x[i],a,b)\n",
    "            diffeuno=abs(y[i]**2-(yuno**2))\n",
    "            diffedos=abs(y[i]**2-(ynew**2))\n",
    "            # esto tambien se puede hacer con chi2 que aprece en las guias del curso    \n",
    "            if (diffedos < diffeuno):\n",
    "                aini=a\n",
    "                bini=b\n",
    "            # lo siguiente no es necesario pero como son numeros aleatorios hay que\n",
    "            # probar otros resultados y hay varias formas de establecer el nuevo valor\n",
    "            # Aqui es para rechazar la hipotesis\n",
    "            else :\n",
    "                beta=random.rand()\n",
    "                if beta < 0.5:\n",
    "                    aini=a-(beta*0.25-0.25)\n",
    "                    #zeta=random.rand()\n",
    "                    bini=b-(beta*0.25-0.25)            \n",
    "        \n",
    "print (\"El ajuste estaria dado por\",a,b)\n",
    "    "
   ]
  },
  {
   "cell_type": "code",
   "execution_count": null,
   "metadata": {},
   "outputs": [],
   "source": [
    "# los requisitos que deben tener los estudiantes son:\n",
    "\n",
    "# conceptos geometricos o analiticos de la ecuacion de una linea recta\n",
    "\n",
    "# conceptos de generacion de numeros aleatorios por computadora (que probablemente se\n",
    "# aprenden rapidamente con un comando)\n",
    "\n",
    "# nocion o el concepto de numero aleatorio \n",
    "\n",
    "# nocion o concepto de ciclos en programacion, asi como tambien de \n",
    "# condicionales, creacion de variables, listas y arreglos.\n",
    "\n",
    "# aunque no es necesario, para simplificar el numero de lineas usado en el \n",
    "# programa se requiere que previamente sepan crear funciones dentro del programa\n",
    "\n",
    "\n",
    "# los conceptos del manejo de lenguaje de programacion que estan usando"
   ]
  },
  {
   "cell_type": "code",
   "execution_count": null,
   "metadata": {},
   "outputs": [],
   "source": []
  }
 ],
 "metadata": {
  "kernelspec": {
   "display_name": "Python 3",
   "language": "python",
   "name": "python3"
  },
  "language_info": {
   "codemirror_mode": {
    "name": "ipython",
    "version": 3
   },
   "file_extension": ".py",
   "mimetype": "text/x-python",
   "name": "python",
   "nbconvert_exporter": "python",
   "pygments_lexer": "ipython3",
   "version": "3.6.6"
  }
 },
 "nbformat": 4,
 "nbformat_minor": 2
}
